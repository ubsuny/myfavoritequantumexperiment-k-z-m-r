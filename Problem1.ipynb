{
 "cells": [
  {
   "cell_type": "markdown",
   "id": "3b9f4467",
   "metadata": {},
   "source": [
    "## Assignment 8\n",
    "### Jeremy Kazimer\n",
    "### jdkazime@buffalo.edu"
   ]
  },
  {
   "cell_type": "markdown",
   "id": "ded99790",
   "metadata": {},
   "source": [
    "#### _Import Statements_"
   ]
  },
  {
   "cell_type": "code",
   "execution_count": 4,
   "id": "79b87a8e",
   "metadata": {},
   "outputs": [
    {
     "name": "stderr",
     "output_type": "stream",
     "text": [
      "ibmqfactory.load_account:WARNING:2021-04-28 04:23:42,320: Credentials are already in use. The existing account in the session will be replaced.\n"
     ]
    }
   ],
   "source": [
    "# Data structures\n",
    "import numpy as np\n",
    "\n",
    "# Importing standard Qiskit libraries\n",
    "from qiskit import QuantumCircuit, transpile, Aer, IBMQ, QuantumRegister, ClassicalRegister\n",
    "from qiskit.providers.aer import QasmSimulator\n",
    "from qiskit.tools.jupyter import *\n",
    "from qiskit.visualization import *\n",
    "from ibm_quantum_widgets import *\n",
    "\n",
    "# Plotting\n",
    "from matplotlib import pyplot as plt\n",
    "\n",
    "# Loading your IBM Q account(s)\n",
    "provider = IBMQ.load_account()"
   ]
  },
  {
   "cell_type": "markdown",
   "id": "dab028bb",
   "metadata": {},
   "source": [
    "#### _Introduction_"
   ]
  },
  {
   "cell_type": "markdown",
   "id": "5ff9aad4",
   "metadata": {},
   "source": [
    "The premise of this problem is that we can turn a typical Mach-Zehnder Interferometer experiment into a quantum computation as opposed to that of a classical computer.  \n",
    "\n",
    "Note that the gimmick of the Mach-Zehnder Inferferometer experiment is that light is traveling along a beam splitter such that light is broken down into two components:  a lower and upper path.  We denote these by their wave components such that\n",
    "\\begin{equation}\n",
    "\\psi_l = \\begin{pmatrix} 0 \\\\ 1 \\end{pmatrix}\n",
    "\\end{equation}\n",
    "\n",
    "where $\\psi_l$ is the lower portion.  Further\n",
    "\\begin{equation}\n",
    "\\psi_u = \\begin{pmatrix} 1 \\\\ 0 \\end{pmatrix}\n",
    "\\end{equation}\n",
    "\n",
    "where $\\psi_u$ is the upper portion.  The individual beams are then combined such that we can interpret the phase angle of the recombined beam.  We do this by calculating the probability $p(\\psi)$ that a photon is in either the lower or upper branch, or $p(\\psi_l$) and $p(\\psi_u)$.  Consider that $p(\\psi_l) + p(\\psi_u) = 1$.   Then, we can use\n",
    "\\begin{equation}\n",
    "p(\\psi_l) = \\sin^2\\left(\\dfrac{\\Delta \\Phi}{2}\\right)\n",
    "\\end{equation}\n",
    "\n",
    "or\n",
    "\n",
    "\\begin{equation}\n",
    "p(\\psi_u) = \\cos^2\\left(\\dfrac{\\Delta \\Phi}{2}\\right)\n",
    "\\end{equation}\n",
    "\n",
    "to determine the angle such that $\\Delta \\Phi$ is the phase angle.  Note again that the sum of $\\cos^2\\left(\\dfrac{\\Delta \\Phi}{2}\\right) + \\sin^2\\left(\\dfrac{\\Delta \\Phi}{2}\\right) = 1$.  \n",
    "\n",
    "The main thing is that a Hadamard (H) Gate is used such that it can superimpose the beams by the unitary matrix\n",
    "\n",
    "\\begin{equation}\n",
    "H = \\dfrac{1}{\\sqrt{2}}\\begin{bmatrix} 1 & 1 \\\\ 1 & -1\\end{bmatrix}\n",
    "\\end{equation}\n",
    "\n",
    "With that, we can begin by creating a circuit:"
   ]
  },
  {
   "cell_type": "markdown",
   "id": "ee800c15",
   "metadata": {},
   "source": [
    "#### _Creating the Circuit_"
   ]
  },
  {
   "cell_type": "markdown",
   "id": "ca2e2e72",
   "metadata": {},
   "source": [
    "Note that this code was primarily taken from the `CompPhys` [GitHub repository](https://github.com/ubsuny/CompPhys), with changes made for my own purposes."
   ]
  },
  {
   "cell_type": "code",
   "execution_count": 5,
   "id": "f8c5f144",
   "metadata": {},
   "outputs": [],
   "source": [
    "def create_circuit(number_phases, phase_angles):\n",
    "    \n",
    "    '''\n",
    "        number_phases -> the number of phase modulations desired\n",
    "        phase_angles -> the phases by which to modulate the beam\n",
    "    '''\n",
    "    \n",
    "    circuit = QuantumCircuit(QuantumRegister(1), ClassicalRegister(1))\n",
    "\n",
    "    circuit.h(0)\n",
    "    \n",
    "    for phase in range(number_phases):\n",
    "        if len(phase_angles) == 1:\n",
    "            circuit.p(phase_angles[0], 0)\n",
    "        else: \n",
    "            circuit.p(phase_angles[phase], 0)\n",
    "            \n",
    "    circuit.h(0)\n",
    "\n",
    "    circuit.measure([0], [0])\n",
    "\n",
    "    return circuit"
   ]
  },
  {
   "cell_type": "code",
   "execution_count": 42,
   "id": "df0d6a1a",
   "metadata": {},
   "outputs": [],
   "source": [
    "circuit = create_circuit(1, [np.pi/2])"
   ]
  },
  {
   "cell_type": "markdown",
   "id": "b4087863",
   "metadata": {},
   "source": [
    "Now, we can draw our circuit:"
   ]
  },
  {
   "cell_type": "code",
   "execution_count": 12,
   "id": "b0404710",
   "metadata": {},
   "outputs": [
    {
     "data": {
      "image/png": "[encoded data removed]",
      "text/plain": [
       "<Figure size 327.252x144.48 with 1 Axes>"
      ]
     },
     "execution_count": 12,
     "metadata": {},
     "output_type": "execute_result"
    }
   ],
   "source": [
    "circuit.draw()"
   ]
  },
  {
   "cell_type": "markdown",
   "id": "817bcd70",
   "metadata": {},
   "source": [
    "Okay, cool, but now we should actually use our circuit to simulate something.  Namely, we should start by generating probabilities:"
   ]
  },
  {
   "cell_type": "code",
   "execution_count": 13,
   "id": "fbd066fc",
   "metadata": {},
   "outputs": [],
   "source": [
    "def simulation_probabilities(circuit, iterations):\n",
    "    \n",
    "    '''\n",
    "        circuit -> our circuit\n",
    "        iterations -> number of times the circuit should be ran.\n",
    "    '''\n",
    "    \n",
    "    simulator = QasmSimulator()\n",
    "\n",
    "    compiled_circuit = transpile(circuit, simulator)\n",
    "    \n",
    "    job = simulator.run(compiled_circuit, shots = iterations)\n",
    "\n",
    "    result = job.result()\n",
    "\n",
    "    counts = result.get_counts(circuit)\n",
    "    \n",
    "    return counts"
   ]
  },
  {
   "cell_type": "code",
   "execution_count": 43,
   "id": "43dc4969",
   "metadata": {},
   "outputs": [
    {
     "name": "stdout",
     "output_type": "stream",
     "text": [
      "{'1': 502, '0': 498}\n"
     ]
    }
   ],
   "source": [
    "counts = simulation_probabilities(circuit, 1000)\n",
    "print(counts)"
   ]
  },
  {
   "cell_type": "markdown",
   "id": "cbb3b782",
   "metadata": {},
   "source": [
    "We see that this is roughly a 50/50 split.  Due to the random nature of this process, it would be important to repeat this as many times, for as many different circuits with the same initial conditions, so that this number is rounded out.  Of course, space limitations apply.  \n",
    "\n",
    "Regardless, we can now convert this into proper probabilities and the phase angles:"
   ]
  },
  {
   "cell_type": "code",
   "execution_count": 17,
   "id": "cdcfa636",
   "metadata": {},
   "outputs": [],
   "source": [
    "def get_phase_angle(counts):\n",
    "    \n",
    "    '''\n",
    "        counts -> the distributions of upper and lower\n",
    "    '''\n",
    "    \n",
    "    count_keys = counts.keys()\n",
    "    if len(count_keys) == 2:\n",
    "        c_l = counts['0']\n",
    "        c_u = counts['1']\n",
    "    else:\n",
    "        if '0' in list(count_keys):\n",
    "            c_l = counts['0']\n",
    "            c_u = 0\n",
    "        else:\n",
    "            c_l = 0\n",
    "            c_u = counts['1']\n",
    "            \n",
    "    total = c_l + c_u\n",
    "    probabilities = (c_l/total, c_u/total)\n",
    "    phase_angle = 2*np.arccos(np.sqrt(probabilities[0]))\n",
    "    \n",
    "    return probabilities, phase_angle"
   ]
  },
  {
   "cell_type": "code",
   "execution_count": 21,
   "id": "01909b84",
   "metadata": {},
   "outputs": [
    {
     "name": "stdout",
     "output_type": "stream",
     "text": [
      "(0.511, 0.489)\n",
      "1.548794551741596\n"
     ]
    }
   ],
   "source": [
    "probabilities, phase_angle = get_phase_angle(counts)\n",
    "print(probabilities)\n",
    "print(phase_angle)"
   ]
  },
  {
   "cell_type": "markdown",
   "id": "13e0b7a9",
   "metadata": {},
   "source": [
    "Our probabilities are obvious, but how similar is this phase angle to the angle that we introduced?"
   ]
  },
  {
   "cell_type": "code",
   "execution_count": 22,
   "id": "e5e29697",
   "metadata": {},
   "outputs": [
    {
     "name": "stdout",
     "output_type": "stream",
     "text": [
      "0.022001775053300587\n"
     ]
    }
   ],
   "source": [
    "print(abs(np.pi/2 - phase_angle))"
   ]
  },
  {
   "cell_type": "markdown",
   "id": "5ef16857",
   "metadata": {},
   "source": [
    "So, there is considerable error.  Hence, the need to repeat this enough so that this data is more well-rounded.  As such, we can treat this as a Monte Carlo problem by doing the following:"
   ]
  },
  {
   "cell_type": "code",
   "execution_count": 24,
   "id": "d419d5c8",
   "metadata": {},
   "outputs": [
    {
     "name": "stdout",
     "output_type": "stream",
     "text": [
      "on trial 20 of 20 \r"
     ]
    }
   ],
   "source": [
    "trials = 20\n",
    "\n",
    "input_angles = np.linspace(0, 2*np.pi, 90)\n",
    "probabilities = np.zeros((trials, 2, input_angles.shape[0]))\n",
    "phase_angles = np.zeros((trials, input_angles.shape[0]))\n",
    "\n",
    "iterations = 100\n",
    "for trial in range(trials):\n",
    "    print('on trial {} of {}'.format(trial + 1, trials), '\\r', end = '')\n",
    "    for idx, angle in enumerate(input_angles):\n",
    "\n",
    "        circuit = create_circuit(1, [angle])\n",
    "        counts = simulation_probabilities(circuit, iterations)\n",
    "        probability, phase_angle = get_phase_angle(counts)\n",
    "\n",
    "        probabilities[trial, :, idx] = probability\n",
    "        phase_angles[trial, idx] = phase_angle    "
   ]
  },
  {
   "cell_type": "markdown",
   "id": "b39aec91",
   "metadata": {},
   "source": [
    "Of course, since this a Monte Carlo simulation, an average should be taken:"
   ]
  },
  {
   "cell_type": "code",
   "execution_count": 25,
   "id": "f7367156",
   "metadata": {},
   "outputs": [],
   "source": [
    "p_means = probabilities.mean(axis = 0)\n",
    "pa_means = phase_angles.mean(axis = 0)"
   ]
  },
  {
   "cell_type": "markdown",
   "id": "1932bdb8",
   "metadata": {},
   "source": [
    "And, a plot for good measure:"
   ]
  },
  {
   "cell_type": "code",
   "execution_count": 30,
   "id": "f3b2c261",
   "metadata": {},
   "outputs": [
    {
     "data": {
      "image/png": "[encoded data removed]",
      "text/plain": [
       "<Figure size 432x288 with 1 Axes>"
      ]
     },
     "metadata": {
      "needs_background": "light"
     },
     "output_type": "display_data"
    }
   ],
   "source": [
    "fig, ax = plt.subplots(1, 1)\n",
    "\n",
    "ax.plot(input_angles, p_means.T, lw = 2)\n",
    "\n",
    "ax.set_ylabel('probability $p$', fontsize = 14)\n",
    "ax.set_xlabel(r'modular angle $\\theta$', fontsize = 14)\n",
    "\n",
    "ax.set_xlim(0, 2*np.pi)\n",
    "\n",
    "fig.tight_layout()"
   ]
  },
  {
   "cell_type": "markdown",
   "id": "111a9904",
   "metadata": {},
   "source": [
    "This is great - it really shows constructive and destructive interference patterns.  But the big quesiton is always...what about our phase angle?"
   ]
  },
  {
   "cell_type": "code",
   "execution_count": 37,
   "id": "2a901d2f",
   "metadata": {},
   "outputs": [
    {
     "data": {
      "image/png": "[encoded data removed]",
      "text/plain": [
       "<Figure size 432x288 with 2 Axes>"
      ]
     },
     "metadata": {
      "needs_background": "light"
     },
     "output_type": "display_data"
    }
   ],
   "source": [
    "fig, axs = plt.subplots(2, 1, sharex = True)\n",
    "\n",
    "axs[0].plot(input_angles, pa_means, lw = 2)\n",
    "\n",
    "axs[0].set_ylabel('phase angle $\\Phi$', fontsize = 14)\n",
    "\n",
    "axs[1].plot(input_angles, abs(pa_means - input_angles), lw = 2)\n",
    "\n",
    "axs[1].set_ylabel('error $|\\Phi - \\theta|$', fontsize = 14)\n",
    "axs[1].set_xlabel(r'modular angle $\\theta$', fontsize = 14)\n",
    "\n",
    "axs[1].set_xlim(0, 2*np.pi)\n",
    "\n",
    "fig.tight_layout()"
   ]
  },
  {
   "cell_type": "markdown",
   "id": "39aa2cad",
   "metadata": {},
   "source": [
    "So, it works.  It appears that my function fails because I exclusively use the $\\cos^2\\left(\\dfrac{\\Phi}{2}\\right)$ function to calculate my phase angle.  So after $\\pi$, the probabilities begin to decrease from the upper state again to the lower state.  As such, using only one of the functions cannot capture this.  It's important to note, so for this next and brief experiment I'll only exist on the domain $[0, \\pi]$.  \n",
    "\n",
    "Then, what's next? Well, we can briefly see how a linear combination of modulators fair, since we've only looked at one:"
   ]
  },
  {
   "cell_type": "code",
   "execution_count": 44,
   "id": "297c7bfc",
   "metadata": {},
   "outputs": [],
   "source": [
    "circuit = create_circuit(10, [np.pi/2])"
   ]
  },
  {
   "cell_type": "code",
   "execution_count": 45,
   "id": "7b63451a",
   "metadata": {},
   "outputs": [
    {
     "data": {
      "image/png": "[encoded data removed]",
      "text/plain": [
       "<Figure size 921.992x144.48 with 1 Axes>"
      ]
     },
     "execution_count": 45,
     "metadata": {},
     "output_type": "execute_result"
    }
   ],
   "source": [
    "circuit.draw()"
   ]
  },
  {
   "cell_type": "code",
   "execution_count": 48,
   "id": "fcd5854b",
   "metadata": {},
   "outputs": [
    {
     "name": "stdout",
     "output_type": "stream",
     "text": [
      "{'1': 1000}\n"
     ]
    }
   ],
   "source": [
    "counts = simulation_probabilities(circuit, 1000)\n",
    "print(counts)"
   ]
  },
  {
   "cell_type": "code",
   "execution_count": 49,
   "id": "62799fd6",
   "metadata": {
    "scrolled": true
   },
   "outputs": [
    {
     "name": "stdout",
     "output_type": "stream",
     "text": [
      "(0.0, 1.0)\n",
      "3.141592653589793\n"
     ]
    }
   ],
   "source": [
    "probabilities, phase_angle = get_phase_angle(counts)\n",
    "print(probabilities)\n",
    "print(phase_angle)"
   ]
  },
  {
   "cell_type": "markdown",
   "id": "1248c2c8",
   "metadata": {},
   "source": [
    "Where did this come from? Well, $10 \\times \\dfrac{\\pi}{2} = 5\\pi$.  Note that $5\\pi$ is coterminal with $\\pi$, so this works out perfectly.  This does obey linearity.  As one last example, we could randomly perturb and verify that this absolutely works.  Therefore, the typical procedure.  However, this time I'm going to make the interval small enough so we don't have to worry about coterminal angles:"
   ]
  },
  {
   "cell_type": "code",
   "execution_count": 67,
   "id": "3c2d7f9c",
   "metadata": {},
   "outputs": [],
   "source": [
    "random_angles = np.random.uniform(0, 1, 5)"
   ]
  },
  {
   "cell_type": "code",
   "execution_count": 69,
   "id": "fabe360f",
   "metadata": {},
   "outputs": [],
   "source": [
    "circuit = create_circuit(5, random_angles)"
   ]
  },
  {
   "cell_type": "code",
   "execution_count": 70,
   "id": "94fc0d87",
   "metadata": {},
   "outputs": [
    {
     "data": {
      "image/png": "[encoded data removed]",
      "text/plain": [
       "<Figure size 620.701x144.48 with 1 Axes>"
      ]
     },
     "execution_count": 70,
     "metadata": {},
     "output_type": "execute_result"
    }
   ],
   "source": [
    "circuit.draw()"
   ]
  },
  {
   "cell_type": "code",
   "execution_count": 71,
   "id": "557608d3",
   "metadata": {},
   "outputs": [
    {
     "name": "stdout",
     "output_type": "stream",
     "text": [
      "{'0': 71, '1': 929}\n"
     ]
    }
   ],
   "source": [
    "counts = simulation_probabilities(circuit, 1000)\n",
    "print(counts)"
   ]
  },
  {
   "cell_type": "code",
   "execution_count": 74,
   "id": "9469d67d",
   "metadata": {
    "scrolled": true
   },
   "outputs": [
    {
     "name": "stdout",
     "output_type": "stream",
     "text": [
      "(0.071, 0.929)\n",
      "2.6021595395363257\n"
     ]
    }
   ],
   "source": [
    "probabilities, phase_angle = get_phase_angle(counts)\n",
    "print(probabilities)\n",
    "print(phase_angle)"
   ]
  },
  {
   "cell_type": "markdown",
   "id": "289368cf",
   "metadata": {},
   "source": [
    "The moment of truth..."
   ]
  },
  {
   "cell_type": "code",
   "execution_count": 75,
   "id": "f30f25f0",
   "metadata": {},
   "outputs": [
    {
     "name": "stdout",
     "output_type": "stream",
     "text": [
      "2.6421623335968882\n"
     ]
    }
   ],
   "source": [
    "print(np.sum(random_angles))"
   ]
  },
  {
   "cell_type": "markdown",
   "id": "c40e6fd3",
   "metadata": {},
   "source": [
    "Wow, so the system starts to fall apart...just one more verification.  If we make this interval fairly small, but repeated many times, what happens?"
   ]
  },
  {
   "cell_type": "code",
   "execution_count": 84,
   "id": "680f5017",
   "metadata": {},
   "outputs": [],
   "source": [
    "random_angles = np.random.uniform(0, 0.01, 500)"
   ]
  },
  {
   "cell_type": "code",
   "execution_count": 85,
   "id": "ba5945e3",
   "metadata": {},
   "outputs": [],
   "source": [
    "circuit = create_circuit(500, random_angles)"
   ]
  },
  {
   "cell_type": "code",
   "execution_count": 86,
   "id": "89f009dd",
   "metadata": {},
   "outputs": [
    {
     "name": "stdout",
     "output_type": "stream",
     "text": [
      "{'0': 95, '1': 905}\n"
     ]
    }
   ],
   "source": [
    "counts = simulation_probabilities(circuit, 1000)\n",
    "print(counts)"
   ]
  },
  {
   "cell_type": "code",
   "execution_count": 87,
   "id": "14f0ccc5",
   "metadata": {
    "scrolled": true
   },
   "outputs": [
    {
     "name": "stdout",
     "output_type": "stream",
     "text": [
      "(0.095, 0.905)\n",
      "2.5149484419490524\n"
     ]
    }
   ],
   "source": [
    "probabilities, phase_angle = get_phase_angle(counts)\n",
    "print(probabilities)\n",
    "print(phase_angle)"
   ]
  },
  {
   "cell_type": "code",
   "execution_count": 88,
   "id": "e1dbf9ef",
   "metadata": {},
   "outputs": [
    {
     "name": "stdout",
     "output_type": "stream",
     "text": [
      "2.4561350518805387\n"
     ]
    }
   ],
   "source": [
    "print(np.sum(random_angles))"
   ]
  },
  {
   "cell_type": "markdown",
   "id": "9b9bb598",
   "metadata": {},
   "source": [
    "The accuracy doesn't get worse.  And that makes sense for this scale.  It was important to check.  Perhaps it's not inaccurate at all and I'm just missing something.  Who knows! An overall fun experiment in what I would describe as dangerous territory this late in the semester. "
   ]
  }
 ],
 "metadata": {
  "kernelspec": {
   "display_name": "Python 3",
   "language": "python",
   "name": "python3"
  },
  "language_info": {
   "codemirror_mode": {
    "name": "ipython",
    "version": 3
   },
   "file_extension": ".py",
   "mimetype": "text/x-python",
   "name": "python",
   "nbconvert_exporter": "python",
   "pygments_lexer": "ipython3",
   "version": "3.8.8"
  }
 },
 "nbformat": 4,
 "nbformat_minor": 5
}
